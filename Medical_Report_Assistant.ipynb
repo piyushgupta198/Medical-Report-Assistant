{
  "nbformat": 4,
  "nbformat_minor": 0,
  "metadata": {
    "colab": {
      "provenance": [],
      "gpuType": "T4",
      "authorship_tag": "ABX9TyM+0vcDpDMSJ28rXJ1Yu9rm",
      "include_colab_link": true
    },
    "kernelspec": {
      "name": "python3",
      "display_name": "Python 3"
    },
    "language_info": {
      "name": "python"
    },
    "accelerator": "GPU"
  },
  "cells": [
    {
      "cell_type": "markdown",
      "metadata": {
        "id": "view-in-github",
        "colab_type": "text"
      },
      "source": [
        "<a href=\"https://colab.research.google.com/github/piyushgupta198/Medical-Report-Assistant/blob/main/Medical_Report_Assistant.ipynb\" target=\"_parent\"><img src=\"https://colab.research.google.com/assets/colab-badge.svg\" alt=\"Open In Colab\"/></a>"
      ]
    },
    {
      "cell_type": "code",
      "source": [
        "%pip install -qU huggingface_hub langchain_huggingface langchain-community faiss-cpu pdfplumber"
      ],
      "metadata": {
        "colab": {
          "base_uri": "https://localhost:8080/"
        },
        "id": "hYh3XGCvLqtp",
        "outputId": "c5146459-6f84-42df-b02b-ae03043aa8a1"
      },
      "execution_count": 2,
      "outputs": [
        {
          "output_type": "stream",
          "name": "stdout",
          "text": [
            "\u001b[2K     \u001b[90m━━━━━━━━━━━━━━━━━━━━━━━━━━━━━━━━━━━━━━━━\u001b[0m \u001b[32m42.8/42.8 kB\u001b[0m \u001b[31m4.5 MB/s\u001b[0m eta \u001b[36m0:00:00\u001b[0m\n",
            "\u001b[2K     \u001b[90m━━━━━━━━━━━━━━━━━━━━━━━━━━━━━━━━━━━━━━━━\u001b[0m \u001b[32m48.2/48.2 kB\u001b[0m \u001b[31m5.3 MB/s\u001b[0m eta \u001b[36m0:00:00\u001b[0m\n",
            "\u001b[2K   \u001b[90m━━━━━━━━━━━━━━━━━━━━━━━━━━━━━━━━━━━━━━━━\u001b[0m \u001b[32m515.3/515.3 kB\u001b[0m \u001b[31m45.3 MB/s\u001b[0m eta \u001b[36m0:00:00\u001b[0m\n",
            "\u001b[2K   \u001b[90m━━━━━━━━━━━━━━━━━━━━━━━━━━━━━━━━━━━━━━━━\u001b[0m \u001b[32m2.5/2.5 MB\u001b[0m \u001b[31m106.3 MB/s\u001b[0m eta \u001b[36m0:00:00\u001b[0m\n",
            "\u001b[2K   \u001b[90m━━━━━━━━━━━━━━━━━━━━━━━━━━━━━━━━━━━━━━━━\u001b[0m \u001b[32m31.3/31.3 MB\u001b[0m \u001b[31m70.6 MB/s\u001b[0m eta \u001b[36m0:00:00\u001b[0m\n",
            "\u001b[2K   \u001b[90m━━━━━━━━━━━━━━━━━━━━━━━━━━━━━━━━━━━━━━━━\u001b[0m \u001b[32m60.0/60.0 kB\u001b[0m \u001b[31m7.1 MB/s\u001b[0m eta \u001b[36m0:00:00\u001b[0m\n",
            "\u001b[2K   \u001b[90m━━━━━━━━━━━━━━━━━━━━━━━━━━━━━━━━━━━━━━━━\u001b[0m \u001b[32m5.6/5.6 MB\u001b[0m \u001b[31m123.9 MB/s\u001b[0m eta \u001b[36m0:00:00\u001b[0m\n",
            "\u001b[2K   \u001b[90m━━━━━━━━━━━━━━━━━━━━━━━━━━━━━━━━━━━━━━━━\u001b[0m \u001b[32m45.2/45.2 kB\u001b[0m \u001b[31m4.8 MB/s\u001b[0m eta \u001b[36m0:00:00\u001b[0m\n",
            "\u001b[2K   \u001b[90m━━━━━━━━━━━━━━━━━━━━━━━━━━━━━━━━━━━━━━━━\u001b[0m \u001b[32m2.9/2.9 MB\u001b[0m \u001b[31m109.5 MB/s\u001b[0m eta \u001b[36m0:00:00\u001b[0m\n",
            "\u001b[2K   \u001b[90m━━━━━━━━━━━━━━━━━━━━━━━━━━━━━━━━━━━━━━━━\u001b[0m \u001b[32m50.9/50.9 kB\u001b[0m \u001b[31m5.1 MB/s\u001b[0m eta \u001b[36m0:00:00\u001b[0m\n",
            "\u001b[?25h"
          ]
        }
      ]
    },
    {
      "cell_type": "code",
      "source": [
        "%pip install -qU langchain_community"
      ],
      "metadata": {
        "id": "Ab_RVtUtNktY"
      },
      "execution_count": 3,
      "outputs": []
    },
    {
      "cell_type": "code",
      "source": [],
      "metadata": {
        "id": "B-a4FnfzR3bo"
      },
      "execution_count": 3,
      "outputs": []
    },
    {
      "cell_type": "code",
      "source": [
        "from google.colab import userdata\n",
        "sec_key = userdata.get('HF_TOKEN')"
      ],
      "metadata": {
        "id": "0zu25hSVR4Eg"
      },
      "execution_count": 4,
      "outputs": []
    },
    {
      "cell_type": "markdown",
      "source": [
        "# Load PDF & Parsing"
      ],
      "metadata": {
        "id": "ICHPXYqdNSuQ"
      }
    },
    {
      "cell_type": "code",
      "source": [
        "from langchain_community.document_loaders import PDFPlumberLoader\n",
        "\n",
        "loader = PDFPlumberLoader(\"/content/475165825_SL_2024-12-14T173424.48_report (1).pdf\")"
      ],
      "metadata": {
        "id": "u_IQQpbKNCzJ"
      },
      "execution_count": 6,
      "outputs": []
    },
    {
      "cell_type": "code",
      "source": [
        "docs = loader.load()"
      ],
      "metadata": {
        "id": "gC8pLZXsNW3B"
      },
      "execution_count": 7,
      "outputs": []
    },
    {
      "cell_type": "code",
      "source": [
        "report_text = \" \".join(chunk.page_content for chunk in docs)"
      ],
      "metadata": {
        "id": "nziHS4v8NsS6"
      },
      "execution_count": 8,
      "outputs": []
    },
    {
      "cell_type": "code",
      "source": [
        "# print(report_text)"
      ],
      "metadata": {
        "id": "trqAYcwzQcXA"
      },
      "execution_count": 9,
      "outputs": []
    },
    {
      "cell_type": "code",
      "source": [
        "cleaned_text = report_text.replace('|', '').strip()\n",
        "cleaned_report_text = cleaned_text.replace('-', '').strip()"
      ],
      "metadata": {
        "id": "BLnKFuzOOi7Y"
      },
      "execution_count": 10,
      "outputs": []
    },
    {
      "cell_type": "markdown",
      "source": [
        "# Text Splitting"
      ],
      "metadata": {
        "id": "Y-fBZGkBRTwo"
      }
    },
    {
      "cell_type": "code",
      "source": [
        "from langchain.text_splitter import RecursiveCharacterTextSplitter\n",
        "splitter = RecursiveCharacterTextSplitter(chunk_size=300, chunk_overlap=20)\n",
        "chunks = splitter.create_documents([cleaned_report_text])"
      ],
      "metadata": {
        "id": "r27WMgYcOnQ8"
      },
      "execution_count": 11,
      "outputs": []
    },
    {
      "cell_type": "code",
      "source": [
        "len(chunks)"
      ],
      "metadata": {
        "colab": {
          "base_uri": "https://localhost:8080/"
        },
        "id": "3dXumRUmQicK",
        "outputId": "32eb48c5-1243-4b15-f82a-b67c46146cb9"
      },
      "execution_count": 12,
      "outputs": [
        {
          "output_type": "execute_result",
          "data": {
            "text/plain": [
              "65"
            ]
          },
          "metadata": {},
          "execution_count": 12
        }
      ]
    },
    {
      "cell_type": "markdown",
      "source": [
        "## Embedding Generation and Storing in Vector Store"
      ],
      "metadata": {
        "id": "ZhX8AdZjRud4"
      }
    },
    {
      "cell_type": "code",
      "source": [
        "from langchain_huggingface import HuggingFaceEndpointEmbeddings\n",
        "em_model = \"pritamdeka/BioBERT-mnli-snli-scinli-scitail-mednli-stsb\"\n",
        "embedding_model = HuggingFaceEndpointEmbeddings(\n",
        "    model=em_model,\n",
        "    huggingfacehub_api_token=sec_key,\n",
        ")"
      ],
      "metadata": {
        "id": "jX4zrUzZRgq2"
      },
      "execution_count": 13,
      "outputs": []
    },
    {
      "cell_type": "code",
      "source": [
        "from langchain_community.vectorstores import FAISS\n",
        "\n",
        "vector_store = FAISS.from_documents(chunks, embedding_model)"
      ],
      "metadata": {
        "id": "YqSzyEMMR8hj"
      },
      "execution_count": 14,
      "outputs": []
    },
    {
      "cell_type": "code",
      "source": [
        "# vector_store.index_to_docstore_id"
      ],
      "metadata": {
        "id": "dSM1CjWzXRYx"
      },
      "execution_count": 15,
      "outputs": []
    },
    {
      "cell_type": "code",
      "source": [
        "print(vector_store.get_by_ids(['925fcf2f-4f3b-4add-9f91-bce1a00f8d77']))"
      ],
      "metadata": {
        "colab": {
          "base_uri": "https://localhost:8080/"
        },
        "id": "_c4OBPErXeCK",
        "outputId": "6914dfb7-01af-4425-feed-91796756512a"
      },
      "execution_count": 16,
      "outputs": [
        {
          "output_type": "stream",
          "name": "stdout",
          "text": [
            "[]\n"
          ]
        }
      ]
    },
    {
      "cell_type": "markdown",
      "source": [
        "# Retrieval\n"
      ],
      "metadata": {
        "id": "S4GCfsiIZD_A"
      }
    },
    {
      "cell_type": "code",
      "source": [
        "retriever = vector_store.as_retriever(search_type=\"similarity\", search_kwargs={\"k\": 10})"
      ],
      "metadata": {
        "id": "NjoD-VhHZNZQ"
      },
      "execution_count": 47,
      "outputs": []
    },
    {
      "cell_type": "code",
      "source": [
        "retriever.invoke('CBC')"
      ],
      "metadata": {
        "colab": {
          "base_uri": "https://localhost:8080/"
        },
        "id": "kJMINIMJZhc0",
        "outputId": "0b7cfd1a-4d9a-4afc-f123-da7ffdbcaf9a"
      },
      "execution_count": 18,
      "outputs": [
        {
          "output_type": "execute_result",
          "data": {
            "text/plain": [
              "[Document(id='f8afc6ef-0af9-4c42-b0b6-a6ed74d69b6d', metadata={}, page_content='E3, OLD NO2/29, MAIN BABARPUR ROAD, Plot no. 33, Defence Enclave, Vikas Marg,\\nDELHI Preet Vihar, New Delhi110092\\nNORTH EAST DELHI\\nTest Report\\nTest Name Results Units Bio. Ref. Interval\\nCOMPLETE BLOOD COUNT;CBC\\nHemoglobin 9.90 g/dL 12.00  15.00\\n(Photometry)'),\n",
              " Document(id='6b1bf2c7-17f2-4efa-b587-055972f12022', metadata={}, page_content='E3, OLD NO2/29, MAIN BABARPUR ROAD, Plot no. 33, Defence Enclave, Vikas Marg,\\nDELHI Preet Vihar, New Delhi110092\\nNORTH EAST DELHI\\nTest Report\\nTest Name Results Units Bio. Ref. Interval\\nKIDNEY PANEL; KFT,SERUM\\nCreatinine 0.56 mg/dL 0.55  1.02\\n(Modified Jaffe,Kinetic)'),\n",
              " Document(id='14209cf7-f5b8-41f6-b263-a568bc1963f2', metadata={}, page_content='Centromere  AC3  CENPA/B  Limited cutaneous SSc, PBC \\n\\n Discrete nuclear  AC6,7   \\n dots    \\n\\n Multiple nuclear  AC6  Sp100, PML  PBC, SARD, PM/DM \\n dots   proteins,  \\n   MJ/NXP2  \\n\\n Few nuclear dots  AC7  P80coilin, SMN  Sjogren’s syndrome, SLE, SSc, PM, \\n    asymptomatic individuals'),\n",
              " Document(id='8edca988-4bcb-4827-80fe-b081c3949b8a', metadata={}, page_content='Centrosome  AC24  Pericentrin,  Rare in SSc, Raynaud’s phenomenon, \\n   ninein,  infections (viral and mycoplasma) \\n   Cep250,  \\n   Cep110'),\n",
              " Document(id='df92ef31-d118-4a7c-a17e-b510f470b2f4', metadata={}, page_content='Reticular/AMA  AC21  PDCE2/M2,  Common in PBC, SSc, rare in \\n (Mitochondrial)   BCOADCE2,  other SARD \\n   OGDCE2, E1α  \\n   subunit of  \\n   PDC, E3BP/  \\n   proteinX')]"
            ]
          },
          "metadata": {},
          "execution_count": 18
        }
      ]
    },
    {
      "cell_type": "markdown",
      "source": [
        "# Augmentation"
      ],
      "metadata": {
        "id": "ExNTdpHpZrmQ"
      }
    },
    {
      "cell_type": "code",
      "source": [
        "import os\n",
        "os.environ[\"HF_TOKEN\"] = sec_key"
      ],
      "metadata": {
        "id": "vvZAYzbncsS_"
      },
      "execution_count": 19,
      "outputs": []
    },
    {
      "cell_type": "code",
      "source": [
        "!huggingface-cli login\n"
      ],
      "metadata": {
        "colab": {
          "base_uri": "https://localhost:8080/"
        },
        "id": "vMgM6-Q3czZf",
        "outputId": "8324e301-a853-4399-a1b0-43cae9ef7634"
      },
      "execution_count": 20,
      "outputs": [
        {
          "output_type": "stream",
          "name": "stdout",
          "text": [
            "\n",
            "    _|    _|  _|    _|    _|_|_|    _|_|_|  _|_|_|  _|      _|    _|_|_|      _|_|_|_|    _|_|      _|_|_|  _|_|_|_|\n",
            "    _|    _|  _|    _|  _|        _|          _|    _|_|    _|  _|            _|        _|    _|  _|        _|\n",
            "    _|_|_|_|  _|    _|  _|  _|_|  _|  _|_|    _|    _|  _|  _|  _|  _|_|      _|_|_|    _|_|_|_|  _|        _|_|_|\n",
            "    _|    _|  _|    _|  _|    _|  _|    _|    _|    _|    _|_|  _|    _|      _|        _|    _|  _|        _|\n",
            "    _|    _|    _|_|      _|_|_|    _|_|_|  _|_|_|  _|      _|    _|_|_|      _|        _|    _|    _|_|_|  _|_|_|_|\n",
            "\n",
            "    A token is already saved on your machine. Run `huggingface-cli whoami` to get more information or `huggingface-cli logout` if you want to log out.\n",
            "    Setting a new token will erase the existing one.\n",
            "    To log in, `huggingface_hub` requires a token generated from https://huggingface.co/settings/tokens .\n",
            "Enter your token (input will not be visible): \n",
            "Add token as git credential? (Y/n) n\n",
            "Token is valid (permission: read).\n",
            "The token `token` has been saved to /root/.cache/huggingface/stored_tokens\n",
            "Your token has been saved to /root/.cache/huggingface/token\n",
            "Login successful.\n",
            "Note: Environment variable`HF_TOKEN` is set and is the current active token independently from the token you've just configured.\n"
          ]
        }
      ]
    },
    {
      "cell_type": "code",
      "source": [
        "from langchain_huggingface import HuggingFaceEndpoint"
      ],
      "metadata": {
        "id": "vAijvz8KZjj8"
      },
      "execution_count": 39,
      "outputs": []
    },
    {
      "cell_type": "code",
      "source": [
        "from huggingface_hub import login\n",
        "login(new_session=False)"
      ],
      "metadata": {
        "id": "gPUGMlMmbSmn"
      },
      "execution_count": 22,
      "outputs": []
    },
    {
      "cell_type": "code",
      "source": [
        "llm = HuggingFaceEndpoint(\n",
        "    repo_id=\"mistralai/Devstral-Small-2507\",\n",
        "    provider=\"featherless-ai\",\n",
        "    temperature=0.1,\n",
        "    do_sample=False,\n",
        "    huggingfacehub_api_token=sec_key\n",
        ")"
      ],
      "metadata": {
        "id": "xHpjp2J-Zuyv"
      },
      "execution_count": 42,
      "outputs": []
    },
    {
      "cell_type": "code",
      "source": [
        "from langchain_core.prompts import PromptTemplate\n",
        "prompt = PromptTemplate(\n",
        "    template=\"\"\"\n",
        "    You are a clinical assistant AI trained to interpret medical blood test reports.\n",
        "    Given the following lab results and information, answer the user's question clearly, based only on the medical data provided. Use clinical reasoning and reference values where appropriate.\n",
        "\n",
        "      {context}\n",
        "      Question: {question}\n",
        "    \"\"\",\n",
        "    input_variables = ['context', 'question']\n",
        ")"
      ],
      "metadata": {
        "id": "Gu1hWblKZ1zp"
      },
      "execution_count": 44,
      "outputs": []
    },
    {
      "cell_type": "code",
      "source": [
        "question = \"lupus\"\n",
        "retrieved_docs = retriever.invoke(question)"
      ],
      "metadata": {
        "id": "eo8z2gb_Z499"
      },
      "execution_count": 48,
      "outputs": []
    },
    {
      "cell_type": "code",
      "source": [
        "retrieved_docs"
      ],
      "metadata": {
        "colab": {
          "base_uri": "https://localhost:8080/"
        },
        "id": "6mR81ymEiwpJ",
        "outputId": "f790e49d-bcc3-47ce-9e9e-705788115954"
      },
      "execution_count": 49,
      "outputs": [
        {
          "output_type": "execute_result",
          "data": {
            "text/plain": [
              "[Document(id='728068fa-815c-43bd-bc55-8ae8a17407cd', metadata={}, page_content='Mitotic chromosome  AC28  Modified histone  Rare in Discoid lupus erythematous, \\n coat   H3, MCA1  Chronic lymphocytic leukemia, \\n    Sjogren’s syndrome, and Polymyalgia \\n    rheumatica'),\n",
              " Document(id='0102e019-c452-439a-8d28-95c3f4c3bb4c', metadata={}, page_content='Homogenous  AC1  dsDNA*, 4nu7cle5os1om6es,5 8 S2LE5, D*ruginduced lupus, \\n   histones  Juvenile idiopathic arthritis \\nPage 6 of 9\\n .\\nName : Ms. YASHIKA\\nLab No. : 475165825 Age : 23 Years\\nRef By : DR RAHUL BAJAJ Gender : Female\\nCollected : 12/12/2024 11:47:00AM Reported : 14/12/2024 5:30:16PM'),\n",
              " Document(id='964aab5a-0453-4714-a932-637dcd13c146', metadata={}, page_content='Segmental  AC17  Alphaactin,  Myasthenia gravis, Crohn’s disease, \\n   vinuculin,  Ulcerative colitis \\n   tropomyosin  \\n\\n Speckled  AC18,   \\n  19,20   \\n\\n Discrete dots/  AC18  SGW182, Su/Ago2,  PBC, SARD, neurological and \\n GW body like    autoimmune conditions'),\n",
              " Document(id='95b250ec-e6ba-4b38-9da2-0b7df051f49c', metadata={}, page_content='Nucleolar punctate  AC10  RNA polymerase 1,  SSc, Sjogren’s syndrome \\n   hUBF/NOR90  \\n\\n\\n Nuclear envelope  AC11,   \\n  12   \\n\\n Smooth nuclear  AC11  Lamin A,B,C or  SLE, Sjogren’s syndrome, \\n envelope   lamin associated  Seronegative arthritis \\n   proteins'),\n",
              " Document(id='86b488b6-290c-4406-aa67-7069d505f487', metadata={}, page_content='Dense fine speckled  AC19  PL7, PL12,  Antisynthetase syndrome, PM/DM, SLE,\\n   ribosomal P proteins Juvenile SLE, Neuropsychiatric SLE \\n\\n Fine speckled  AC20  Jo1/histidyltRNA  Antisynthetase syndrome, PM/DM, \\n   synthetase  limited SSc, Idiopathic pleural \\n    effusion'),\n",
              " Document(id='95746999-24e0-45bc-b5da-70f903df36f8', metadata={}, page_content='Filamentous/  AC16  Vimentin,  Infections or inflammatory \\n microtubules   cytokeratins  conditions, Long term hemodialysis, \\n    Alcoholic liver disease, SARD, \\n    Psoriasis, healthy controls'),\n",
              " Document(id='e868f1b5-429b-403f-a1c5-f05692fef289', metadata={}, page_content='Linear/actin  AC15  Actin, nonmuscle  MCTD, Chronic active \\n   myosin, MCTD  hepatitis,Liver cirrhosis, \\n    Myasthenia gravis,Crohn’s \\n    disease, PBC, Long term \\n    hemodialysis, rare in \\n    SARD other than MCTD'),\n",
              " Document(id='c0f408ec-1ac3-470a-8925-e27a9a9145cb', metadata={}, page_content='NuMA like  AC26  Centrophilin  Sjogren’s syndrome, SLE, other \\n\\n Intracellular bridges  AC27  Aurora kinase B,  Rare in SSc, Raynaud’s phenomenon, \\n   CENPE,MSA2,  malignancy \\n   KIF14, MKLP1'),\n",
              " Document(id='5ade8949-48c0-4f89-9d91-9fa6c0ab0dd6', metadata={}, page_content='2. eGFR category G1 or G2 does not fulfil the criteria for CKD, in the absence of evidence of kidney\\ndamage\\n3. The BUNtocreatinine ratio is used to differentiate prerenal and postrenal azotemia from renal\\n*475165825*\\nPage 1 of 9\\n .\\nName : Ms. YASHIKA\\nLab No. : 475165825 Age : 23 Years'),\n",
              " Document(id='3bf41f36-53ff-4c9b-82f2-a91527a83a91', metadata={}, page_content='(Calculated)\\nMonocytes 0.51 thou/mm3 0.20  1.00\\n(Calculated)\\nEosinophils 0.09 thou/mm3 0.02  0.50\\n(Calculated)\\n*475165825*\\nPage 3 of 9\\n .\\nName : Ms. YASHIKA\\nLab No. : 475165825 Age : 23 Years\\nRef By : DR RAHUL BAJAJ Gender : Female\\nCollected : 12/12/2024 11:47:00AM Reported : 14/12/2024 5:30:16PM')]"
            ]
          },
          "metadata": {},
          "execution_count": 49
        }
      ]
    },
    {
      "cell_type": "code",
      "source": [
        "context_text = \"\\n\\n\".join(doc.page_content for doc in retrieved_docs)\n",
        "print(context_text)\n",
        "final_prompt = prompt.invoke({\"context\": context_text, \"question\": question})\n",
        "\n",
        "final_prompt"
      ],
      "metadata": {
        "colab": {
          "base_uri": "https://localhost:8080/"
        },
        "id": "St_YKhG0jL7f",
        "outputId": "ba8618dc-bcaf-46d6-adf7-468c168173db"
      },
      "execution_count": 50,
      "outputs": [
        {
          "output_type": "stream",
          "name": "stdout",
          "text": [
            "Mitotic chromosome  AC28  Modified histone  Rare in Discoid lupus erythematous, \n",
            " coat   H3, MCA1  Chronic lymphocytic leukemia, \n",
            "    Sjogren’s syndrome, and Polymyalgia \n",
            "    rheumatica\n",
            "\n",
            "Homogenous  AC1  dsDNA*, 4nu7cle5os1om6es,5 8 S2LE5, D*ruginduced lupus, \n",
            "   histones  Juvenile idiopathic arthritis \n",
            "Page 6 of 9\n",
            " .\n",
            "Name : Ms. YASHIKA\n",
            "Lab No. : 475165825 Age : 23 Years\n",
            "Ref By : DR RAHUL BAJAJ Gender : Female\n",
            "Collected : 12/12/2024 11:47:00AM Reported : 14/12/2024 5:30:16PM\n",
            "\n",
            "Segmental  AC17  Alphaactin,  Myasthenia gravis, Crohn’s disease, \n",
            "   vinuculin,  Ulcerative colitis \n",
            "   tropomyosin  \n",
            "\n",
            " Speckled  AC18,   \n",
            "  19,20   \n",
            "\n",
            " Discrete dots/  AC18  SGW182, Su/Ago2,  PBC, SARD, neurological and \n",
            " GW body like    autoimmune conditions\n",
            "\n",
            "Nucleolar punctate  AC10  RNA polymerase 1,  SSc, Sjogren’s syndrome \n",
            "   hUBF/NOR90  \n",
            "\n",
            "\n",
            " Nuclear envelope  AC11,   \n",
            "  12   \n",
            "\n",
            " Smooth nuclear  AC11  Lamin A,B,C or  SLE, Sjogren’s syndrome, \n",
            " envelope   lamin associated  Seronegative arthritis \n",
            "   proteins\n",
            "\n",
            "Dense fine speckled  AC19  PL7, PL12,  Antisynthetase syndrome, PM/DM, SLE,\n",
            "   ribosomal P proteins Juvenile SLE, Neuropsychiatric SLE \n",
            "\n",
            " Fine speckled  AC20  Jo1/histidyltRNA  Antisynthetase syndrome, PM/DM, \n",
            "   synthetase  limited SSc, Idiopathic pleural \n",
            "    effusion\n",
            "\n",
            "Filamentous/  AC16  Vimentin,  Infections or inflammatory \n",
            " microtubules   cytokeratins  conditions, Long term hemodialysis, \n",
            "    Alcoholic liver disease, SARD, \n",
            "    Psoriasis, healthy controls\n",
            "\n",
            "Linear/actin  AC15  Actin, nonmuscle  MCTD, Chronic active \n",
            "   myosin, MCTD  hepatitis,Liver cirrhosis, \n",
            "    Myasthenia gravis,Crohn’s \n",
            "    disease, PBC, Long term \n",
            "    hemodialysis, rare in \n",
            "    SARD other than MCTD\n",
            "\n",
            "NuMA like  AC26  Centrophilin  Sjogren’s syndrome, SLE, other \n",
            "\n",
            " Intracellular bridges  AC27  Aurora kinase B,  Rare in SSc, Raynaud’s phenomenon, \n",
            "   CENPE,MSA2,  malignancy \n",
            "   KIF14, MKLP1\n",
            "\n",
            "2. eGFR category G1 or G2 does not fulfil the criteria for CKD, in the absence of evidence of kidney\n",
            "damage\n",
            "3. The BUNtocreatinine ratio is used to differentiate prerenal and postrenal azotemia from renal\n",
            "*475165825*\n",
            "Page 1 of 9\n",
            " .\n",
            "Name : Ms. YASHIKA\n",
            "Lab No. : 475165825 Age : 23 Years\n",
            "\n",
            "(Calculated)\n",
            "Monocytes 0.51 thou/mm3 0.20  1.00\n",
            "(Calculated)\n",
            "Eosinophils 0.09 thou/mm3 0.02  0.50\n",
            "(Calculated)\n",
            "*475165825*\n",
            "Page 3 of 9\n",
            " .\n",
            "Name : Ms. YASHIKA\n",
            "Lab No. : 475165825 Age : 23 Years\n",
            "Ref By : DR RAHUL BAJAJ Gender : Female\n",
            "Collected : 12/12/2024 11:47:00AM Reported : 14/12/2024 5:30:16PM\n"
          ]
        },
        {
          "output_type": "execute_result",
          "data": {
            "text/plain": [
              "StringPromptValue(text=\"\\n    You are a clinical assistant AI trained to interpret medical blood test reports.\\n    Given the following lab results and information, answer the user's question clearly, based only on the medical data provided. Use clinical reasoning and reference values where appropriate.\\n\\n      Mitotic chromosome  AC28  Modified histone  Rare in Discoid lupus erythematous, \\n coat   H3, MCA1  Chronic lymphocytic leukemia, \\n    Sjogren’s syndrome, and Polymyalgia \\n    rheumatica\\n\\nHomogenous  AC1  dsDNA*, 4nu7cle5os1om6es,5 8 S2LE5, D*ruginduced lupus, \\n   histones  Juvenile idiopathic arthritis \\nPage 6 of 9\\n .\\nName : Ms. YASHIKA\\nLab No. : 475165825 Age : 23 Years\\nRef By : DR RAHUL BAJAJ Gender : Female\\nCollected : 12/12/2024 11:47:00AM Reported : 14/12/2024 5:30:16PM\\n\\nSegmental  AC17  Alphaactin,  Myasthenia gravis, Crohn’s disease, \\n   vinuculin,  Ulcerative colitis \\n   tropomyosin  \\n\\n Speckled  AC18,   \\n  19,20   \\n\\n Discrete dots/  AC18  SGW182, Su/Ago2,  PBC, SARD, neurological and \\n GW body like    autoimmune conditions\\n\\nNucleolar punctate  AC10  RNA polymerase 1,  SSc, Sjogren’s syndrome \\n   hUBF/NOR90  \\n\\n\\n Nuclear envelope  AC11,   \\n  12   \\n\\n Smooth nuclear  AC11  Lamin A,B,C or  SLE, Sjogren’s syndrome, \\n envelope   lamin associated  Seronegative arthritis \\n   proteins\\n\\nDense fine speckled  AC19  PL7, PL12,  Antisynthetase syndrome, PM/DM, SLE,\\n   ribosomal P proteins Juvenile SLE, Neuropsychiatric SLE \\n\\n Fine speckled  AC20  Jo1/histidyltRNA  Antisynthetase syndrome, PM/DM, \\n   synthetase  limited SSc, Idiopathic pleural \\n    effusion\\n\\nFilamentous/  AC16  Vimentin,  Infections or inflammatory \\n microtubules   cytokeratins  conditions, Long term hemodialysis, \\n    Alcoholic liver disease, SARD, \\n    Psoriasis, healthy controls\\n\\nLinear/actin  AC15  Actin, nonmuscle  MCTD, Chronic active \\n   myosin, MCTD  hepatitis,Liver cirrhosis, \\n    Myasthenia gravis,Crohn’s \\n    disease, PBC, Long term \\n    hemodialysis, rare in \\n    SARD other than MCTD\\n\\nNuMA like  AC26  Centrophilin  Sjogren’s syndrome, SLE, other \\n\\n Intracellular bridges  AC27  Aurora kinase B,  Rare in SSc, Raynaud’s phenomenon, \\n   CENPE,MSA2,  malignancy \\n   KIF14, MKLP1\\n\\n2. eGFR category G1 or G2 does not fulfil the criteria for CKD, in the absence of evidence of kidney\\ndamage\\n3. The BUNtocreatinine ratio is used to differentiate prerenal and postrenal azotemia from renal\\n*475165825*\\nPage 1 of 9\\n .\\nName : Ms. YASHIKA\\nLab No. : 475165825 Age : 23 Years\\n\\n(Calculated)\\nMonocytes 0.51 thou/mm3 0.20  1.00\\n(Calculated)\\nEosinophils 0.09 thou/mm3 0.02  0.50\\n(Calculated)\\n*475165825*\\nPage 3 of 9\\n .\\nName : Ms. YASHIKA\\nLab No. : 475165825 Age : 23 Years\\nRef By : DR RAHUL BAJAJ Gender : Female\\nCollected : 12/12/2024 11:47:00AM Reported : 14/12/2024 5:30:16PM\\n      Question: lupus\\n    \")"
            ]
          },
          "metadata": {},
          "execution_count": 50
        }
      ]
    },
    {
      "cell_type": "markdown",
      "source": [
        "## Generation"
      ],
      "metadata": {
        "id": "CICOe6idjBif"
      }
    },
    {
      "cell_type": "code",
      "source": [
        "answer = llm.invoke(final_prompt)\n",
        "print(answer)"
      ],
      "metadata": {
        "colab": {
          "base_uri": "https://localhost:8080/"
        },
        "id": "YHTgk3Ylizn8",
        "outputId": "a94ca421-9b3c-4771-bce6-fa187315b017"
      },
      "execution_count": 51,
      "outputs": [
        {
          "output_type": "stream",
          "name": "stdout",
          "text": [
            " Answer: Based on the provided lab results, there are several findings that could be associated with lupus. The presence of homogenous AC1 (dsDNA, histones) and dense fine speckled AC19 (PL7, PL12, ribosomal P proteins) patterns are particularly notable. These patterns are often seen in systemic lupus erythematosus (SLE) and other autoimmune conditions. Additionally, the nucleolar punctate AC10 pattern, which is associated with SSc and Sjogren’s syndrome, could also be relevant. However, a definitive diagnosis of lupus would require further clinical evaluation and consideration of other diagnostic criteria.\n"
          ]
        }
      ]
    },
    {
      "cell_type": "markdown",
      "source": [
        "# Build Chain"
      ],
      "metadata": {
        "id": "MGi8x7M1jgS3"
      }
    },
    {
      "cell_type": "code",
      "source": [
        "from langchain_core.runnables import RunnableParallel, RunnablePassthrough, RunnableLambda\n",
        "from langchain_core.output_parsers import StrOutputParser"
      ],
      "metadata": {
        "id": "jPgg0yZ1jTuA"
      },
      "execution_count": 52,
      "outputs": []
    },
    {
      "cell_type": "code",
      "source": [
        "def format_docs(retrieved_docs):\n",
        "  context_text = \"\\n\\n\".join(doc.page_content for doc in retrieved_docs)\n",
        "  return context_text"
      ],
      "metadata": {
        "id": "t0UeilK4jko_"
      },
      "execution_count": 53,
      "outputs": []
    },
    {
      "cell_type": "code",
      "source": [
        "parallel_chain = RunnableParallel({\n",
        "    'context': retriever | RunnableLambda(format_docs),\n",
        "    'question': RunnablePassthrough()\n",
        "})"
      ],
      "metadata": {
        "id": "g12cVsCJjk5H"
      },
      "execution_count": 54,
      "outputs": []
    },
    {
      "cell_type": "code",
      "source": [
        "parser = StrOutputParser()\n",
        "main_chain = parallel_chain | prompt | llm | parser"
      ],
      "metadata": {
        "id": "_uDUxdjHjmk-"
      },
      "execution_count": 55,
      "outputs": []
    },
    {
      "cell_type": "code",
      "source": [
        "result = main_chain.invoke('give insights from the report')"
      ],
      "metadata": {
        "id": "aNkxXZzijs4W"
      },
      "execution_count": 57,
      "outputs": []
    },
    {
      "cell_type": "code",
      "source": [
        "print(result)"
      ],
      "metadata": {
        "colab": {
          "base_uri": "https://localhost:8080/"
        },
        "id": "aGDM5NL2jxki",
        "outputId": "8f5f23f7-f2b2-4e3b-efda-1021a7a858c7"
      },
      "execution_count": 58,
      "outputs": [
        {
          "output_type": "stream",
          "name": "stdout",
          "text": [
            " Answer: The lab report for Ms. Yashika, a 23-year-old female, includes several tests related to autoimmune conditions. Here are the key insights:\n",
            "\n",
            "1. **AC1 (dsDNA, histones, nucleosomes)**: Elevated levels of these antibodies are associated with systemic lupus erythematosus (SLE) and drug-induced lupus. The presence of these antibodies suggests a possible autoimmune disorder.\n",
            "\n",
            "2. **AC24 (Pericentrin, ninein, Cep250, Cep110)**: These antibodies are rare and can be associated with conditions like SSc (systemic sclerosis), Raynaud’s phenomenon, and infections (viral and mycoplasma).\n",
            "\n",
            "3. **AC25 (HsEg5)**: Elevated levels of this antibody are rare and can be associated with Sjogren’s syndrome, SLE, and other SARD (Systemic Autoimmune Rheumatic Diseases).\n",
            "\n",
            "4. **AC13 (PCNA)**: Elevated levels of this antibody are associated with SLE and other conditions.\n",
            "\n",
            "The report suggests a strong possibility of an autoimmune disorder, possibly SLE, given the presence of multiple antibodies associated with this condition. Further clinical evaluation and additional tests may be necessary to confirm the diagnosis and determine the appropriate treatment plan.\n"
          ]
        }
      ]
    },
    {
      "cell_type": "code",
      "source": [
        "print(main_chain.invoke('what about kidney?'))"
      ],
      "metadata": {
        "colab": {
          "base_uri": "https://localhost:8080/"
        },
        "id": "xmL_Sku_kCCn",
        "outputId": "d9df6c62-9aae-42e3-e2f3-6f84bc50552a"
      },
      "execution_count": 61,
      "outputs": [
        {
          "output_type": "stream",
          "name": "stdout",
          "text": [
            " Answer: Based on the provided lab results, the kidney function test (KFT) shows a creatinine level of 0.56 mg/dL, which is within the normal reference interval (0.55 - 1.02 mg/dL). This indicates that the kidney function is normal. Additionally, the eGFR category G1 or G2 suggests that there is no evidence of chronic kidney disease (CKD) in the absence of kidney damage. Therefore, based on the provided data, the kidney function appears to be normal.\n"
          ]
        }
      ]
    },
    {
      "cell_type": "code",
      "source": [],
      "metadata": {
        "id": "3P38iW3fkRZS"
      },
      "execution_count": null,
      "outputs": []
    }
  ]
}